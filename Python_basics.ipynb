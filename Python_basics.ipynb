{
 "cells": [
  {
   "cell_type": "markdown",
   "id": "c225a167",
   "metadata": {},
   "source": [
    "### To get current working directory:"
   ]
  },
  {
   "cell_type": "code",
   "execution_count": 9,
   "id": "f692b93e",
   "metadata": {},
   "outputs": [
    {
     "data": {
      "text/plain": [
       "'/Users/casarulez'"
      ]
     },
     "execution_count": 9,
     "metadata": {},
     "output_type": "execute_result"
    }
   ],
   "source": [
    "pwd"
   ]
  },
  {
   "cell_type": "markdown",
   "id": "6be05e82",
   "metadata": {},
   "source": [
    "### Variables \n",
    "\n",
    "1. Variable name cannot be keyword.\n",
    "2. Variable cannot be special characters.\n",
    "3. Variable name cannot start with a number."
   ]
  },
  {
   "cell_type": "code",
   "execution_count": 18,
   "id": "8183a6ef",
   "metadata": {},
   "outputs": [
    {
     "data": {
      "text/plain": [
       "10"
      ]
     },
     "execution_count": 18,
     "metadata": {},
     "output_type": "execute_result"
    }
   ],
   "source": [
    "#In python, you don't have to specify the datatype while declaring variables\n",
    "a=10\n",
    "a"
   ]
  },
  {
   "cell_type": "code",
   "execution_count": 20,
   "id": "f3393a98",
   "metadata": {},
   "outputs": [
    {
     "data": {
      "text/plain": [
       "int"
      ]
     },
     "execution_count": 20,
     "metadata": {},
     "output_type": "execute_result"
    }
   ],
   "source": [
    "#finding datatype\n",
    "type(a)"
   ]
  },
  {
   "cell_type": "code",
   "execution_count": 21,
   "id": "038c5c3c",
   "metadata": {},
   "outputs": [
    {
     "data": {
      "text/plain": [
       "'harish'"
      ]
     },
     "execution_count": 21,
     "metadata": {},
     "output_type": "execute_result"
    }
   ],
   "source": [
    "b=\"harish\"\n",
    "b"
   ]
  },
  {
   "cell_type": "code",
   "execution_count": 22,
   "id": "9da60d00",
   "metadata": {},
   "outputs": [
    {
     "data": {
      "text/plain": [
       "str"
      ]
     },
     "execution_count": 22,
     "metadata": {},
     "output_type": "execute_result"
    }
   ],
   "source": [
    "type(b)"
   ]
  },
  {
   "cell_type": "code",
   "execution_count": 25,
   "id": "58e9eb64",
   "metadata": {},
   "outputs": [
    {
     "data": {
      "text/plain": [
       "23.7"
      ]
     },
     "execution_count": 25,
     "metadata": {},
     "output_type": "execute_result"
    }
   ],
   "source": [
    "c=23.7\n",
    "c"
   ]
  },
  {
   "cell_type": "code",
   "execution_count": 26,
   "id": "9ee541f7",
   "metadata": {},
   "outputs": [
    {
     "data": {
      "text/plain": [
       "float"
      ]
     },
     "execution_count": 26,
     "metadata": {},
     "output_type": "execute_result"
    }
   ],
   "source": [
    "type(c)"
   ]
  },
  {
   "cell_type": "code",
   "execution_count": 27,
   "id": "49057538",
   "metadata": {},
   "outputs": [
    {
     "name": "stdout",
     "output_type": "stream",
     "text": [
      "10 harish 23.7\n"
     ]
    }
   ],
   "source": [
    "print(a,b,c)"
   ]
  },
  {
   "cell_type": "code",
   "execution_count": 28,
   "id": "777d7b69",
   "metadata": {},
   "outputs": [
    {
     "name": "stdout",
     "output_type": "stream",
     "text": [
      "a: 10 b: harish c: 23.7\n"
     ]
    }
   ],
   "source": [
    "print(\"a:\",a,\"b:\",b,\"c:\",c)"
   ]
  },
  {
   "cell_type": "markdown",
   "id": "ffc47015",
   "metadata": {},
   "source": [
    "### Indexing\n",
    "\n",
    "1. Positive indexing starts from 0 (left end).\n",
    "2. Negative indexing starts from -1 (right end).\n",
    "3. Strings are immutable"
   ]
  },
  {
   "cell_type": "code",
   "execution_count": 29,
   "id": "9711fd9d",
   "metadata": {},
   "outputs": [
    {
     "data": {
      "text/plain": [
       "'hi how are you'"
      ]
     },
     "execution_count": 29,
     "metadata": {},
     "output_type": "execute_result"
    }
   ],
   "source": [
    "string=\"hi how are you\"\n",
    "string"
   ]
  },
  {
   "cell_type": "code",
   "execution_count": 30,
   "id": "a31ca655",
   "metadata": {},
   "outputs": [
    {
     "data": {
      "text/plain": [
       "'i'"
      ]
     },
     "execution_count": 30,
     "metadata": {},
     "output_type": "execute_result"
    }
   ],
   "source": [
    "#accessing a specific character from the string\n",
    "#positive indexing starts from 0 from left end\n",
    "string[1]"
   ]
  },
  {
   "cell_type": "code",
   "execution_count": 31,
   "id": "3efb6dce",
   "metadata": {},
   "outputs": [
    {
     "data": {
      "text/plain": [
       "'o'"
      ]
     },
     "execution_count": 31,
     "metadata": {},
     "output_type": "execute_result"
    }
   ],
   "source": [
    "#negative indexing starts from -1 from right end\n",
    "string[-2]"
   ]
  },
  {
   "cell_type": "markdown",
   "id": "064b7c2d",
   "metadata": {},
   "source": [
    "### Slicing"
   ]
  },
  {
   "cell_type": "code",
   "execution_count": 33,
   "id": "df88fe52",
   "metadata": {},
   "outputs": [
    {
     "data": {
      "text/plain": [
       "'how are you'"
      ]
     },
     "execution_count": 33,
     "metadata": {},
     "output_type": "execute_result"
    }
   ],
   "source": [
    "#Start slicing (grab everything from index 3)\n",
    "string[3:]"
   ]
  },
  {
   "cell_type": "code",
   "execution_count": 34,
   "id": "088cad25",
   "metadata": {},
   "outputs": [
    {
     "data": {
      "text/plain": [
       "'how are you'"
      ]
     },
     "execution_count": 34,
     "metadata": {},
     "output_type": "execute_result"
    }
   ],
   "source": [
    "#Upper index is not included, there for n+1 needs to be specified.\n",
    "string[3:15]"
   ]
  },
  {
   "cell_type": "markdown",
   "id": "eb32a453",
   "metadata": {},
   "source": [
    "### Lists\n",
    "\n",
    "1. Heterogenous datatype.\n",
    "2. Represented using [ ].\n",
    "3. Lists are ordered.\n",
    "4. Lists are mutable.\n",
    "5. Lists will allow duplicates"
   ]
  },
  {
   "cell_type": "code",
   "execution_count": 53,
   "id": "3d37b132",
   "metadata": {},
   "outputs": [
    {
     "data": {
      "text/plain": [
       "[1, 2, 3.5, 'harish', 'smartbridge']"
      ]
     },
     "execution_count": 53,
     "metadata": {},
     "output_type": "execute_result"
    }
   ],
   "source": [
    "#Creating a list\n",
    "p=[1,2,3.5,\"harish\",\"smartbridge\"]\n",
    "p"
   ]
  },
  {
   "cell_type": "code",
   "execution_count": 44,
   "id": "c600cf61",
   "metadata": {},
   "outputs": [
    {
     "data": {
      "text/plain": [
       "list"
      ]
     },
     "execution_count": 44,
     "metadata": {},
     "output_type": "execute_result"
    }
   ],
   "source": [
    "#Checking type\n",
    "type(p)"
   ]
  },
  {
   "cell_type": "code",
   "execution_count": 45,
   "id": "8bd7986d",
   "metadata": {},
   "outputs": [
    {
     "data": {
      "text/plain": [
       "3.5"
      ]
     },
     "execution_count": 45,
     "metadata": {},
     "output_type": "execute_result"
    }
   ],
   "source": [
    "#Indexing list\n",
    "p[2]"
   ]
  },
  {
   "cell_type": "code",
   "execution_count": 38,
   "id": "411ec9b7",
   "metadata": {},
   "outputs": [
    {
     "data": {
      "text/plain": [
       "str"
      ]
     },
     "execution_count": 38,
     "metadata": {},
     "output_type": "execute_result"
    }
   ],
   "source": [
    "#Checking datatype of specific element\n",
    "type(p[3])"
   ]
  },
  {
   "cell_type": "code",
   "execution_count": 54,
   "id": "81639dc2",
   "metadata": {},
   "outputs": [
    {
     "data": {
      "text/plain": [
       "[1, 2, 3.5, 'harish', 'smartbridge', 9]"
      ]
     },
     "execution_count": 54,
     "metadata": {},
     "output_type": "execute_result"
    }
   ],
   "source": [
    "#Adding element to the end of list\n",
    "p.append(9)\n",
    "p"
   ]
  },
  {
   "cell_type": "code",
   "execution_count": 55,
   "id": "10e8ae09",
   "metadata": {},
   "outputs": [
    {
     "data": {
      "text/plain": [
       "[1, 2, 3.5, 'harish', 'internz', 'smartbridge', 9]"
      ]
     },
     "execution_count": 55,
     "metadata": {},
     "output_type": "execute_result"
    }
   ],
   "source": [
    "#Inserting element at a specific index\n",
    "p.insert(4,\"internz\")\n",
    "p"
   ]
  },
  {
   "cell_type": "code",
   "execution_count": 49,
   "id": "12f03628",
   "metadata": {},
   "outputs": [
    {
     "data": {
      "text/plain": [
       "7"
      ]
     },
     "execution_count": 49,
     "metadata": {},
     "output_type": "execute_result"
    }
   ],
   "source": [
    "#checking length of list\n",
    "len(p)"
   ]
  },
  {
   "cell_type": "code",
   "execution_count": 56,
   "id": "b1e1302c",
   "metadata": {},
   "outputs": [
    {
     "data": {
      "text/plain": [
       "[1, 2, 3.5, 'harish', 'internz', 'smartbridge', 9, 'harish']"
      ]
     },
     "execution_count": 56,
     "metadata": {},
     "output_type": "execute_result"
    }
   ],
   "source": [
    "#Adding duplicate elements\n",
    "p.append(\"harish\")\n",
    "p"
   ]
  },
  {
   "cell_type": "code",
   "execution_count": 57,
   "id": "0b614fe2",
   "metadata": {},
   "outputs": [
    {
     "data": {
      "text/plain": [
       "[1, 2, 3.5, 'internz', 'smartbridge', 9, 'harish']"
      ]
     },
     "execution_count": 57,
     "metadata": {},
     "output_type": "execute_result"
    }
   ],
   "source": [
    "#Removing a specific element (only first occurence will be considered)\n",
    "p.remove(\"harish\")\n",
    "p"
   ]
  },
  {
   "cell_type": "code",
   "execution_count": 58,
   "id": "0411bb4b",
   "metadata": {},
   "outputs": [
    {
     "data": {
      "text/plain": [
       "[1, 2, 3.5, 'smartbridge', 9, 'harish']"
      ]
     },
     "execution_count": 58,
     "metadata": {},
     "output_type": "execute_result"
    }
   ],
   "source": [
    "#Using pop function\n",
    "p.pop(3)\n",
    "p"
   ]
  },
  {
   "cell_type": "code",
   "execution_count": 59,
   "id": "4a7e53c1",
   "metadata": {},
   "outputs": [
    {
     "data": {
      "text/plain": [
       "['harish', 9, 'smartbridge', 3.5, 2, 1]"
      ]
     },
     "execution_count": 59,
     "metadata": {},
     "output_type": "execute_result"
    }
   ],
   "source": [
    "#Reversing the list\n",
    "p.reverse()\n",
    "p"
   ]
  },
  {
   "cell_type": "markdown",
   "id": "eac81a38",
   "metadata": {},
   "source": [
    "### Tuple\n",
    "\n",
    "1. Same as list\n",
    "2. Immutable datatype\n",
    "3. Represented using ( )."
   ]
  },
  {
   "cell_type": "code",
   "execution_count": 60,
   "id": "6e968e04",
   "metadata": {},
   "outputs": [
    {
     "data": {
      "text/plain": [
       "(5, 8, 8, 9, 'smartbridge')"
      ]
     },
     "execution_count": 60,
     "metadata": {},
     "output_type": "execute_result"
    }
   ],
   "source": [
    "#Declaring a tuple\n",
    "t=(5,8,8,9,\"smartbridge\")\n",
    "t"
   ]
  },
  {
   "cell_type": "code",
   "execution_count": 61,
   "id": "d192a5e9",
   "metadata": {},
   "outputs": [
    {
     "data": {
      "text/plain": [
       "tuple"
      ]
     },
     "execution_count": 61,
     "metadata": {},
     "output_type": "execute_result"
    }
   ],
   "source": [
    "#Checking type\n",
    "type(t)"
   ]
  },
  {
   "cell_type": "code",
   "execution_count": 62,
   "id": "86f2cfcb",
   "metadata": {},
   "outputs": [
    {
     "data": {
      "text/plain": [
       "8"
      ]
     },
     "execution_count": 62,
     "metadata": {},
     "output_type": "execute_result"
    }
   ],
   "source": [
    "#Indexing a tuple\n",
    "t[1]"
   ]
  },
  {
   "cell_type": "code",
   "execution_count": 63,
   "id": "ea95a93c",
   "metadata": {},
   "outputs": [
    {
     "data": {
      "text/plain": [
       "(8, 8, 9, 'smartbridge')"
      ]
     },
     "execution_count": 63,
     "metadata": {},
     "output_type": "execute_result"
    }
   ],
   "source": [
    "#Slicing a tuple\n",
    "t[1:]"
   ]
  },
  {
   "cell_type": "code",
   "execution_count": 65,
   "id": "9ac5a10f",
   "metadata": {},
   "outputs": [
    {
     "data": {
      "text/plain": [
       "[5, 8, 8, 9, 'smartbridge']"
      ]
     },
     "execution_count": 65,
     "metadata": {},
     "output_type": "execute_result"
    }
   ],
   "source": [
    "#Converting tuple to list (typecasting) to make changes\n",
    "a=list(t)\n",
    "a"
   ]
  },
  {
   "cell_type": "code",
   "execution_count": 67,
   "id": "d2626ba5",
   "metadata": {},
   "outputs": [
    {
     "data": {
      "text/plain": [
       "[5, 8, 8, 9, 'smartbridge', 'externship', 'externship']"
      ]
     },
     "execution_count": 67,
     "metadata": {},
     "output_type": "execute_result"
    }
   ],
   "source": [
    "#Appending into list converted from tuple\n",
    "a.append(\"externship\")\n",
    "a"
   ]
  },
  {
   "cell_type": "code",
   "execution_count": 68,
   "id": "3e9d8ac1",
   "metadata": {},
   "outputs": [
    {
     "data": {
      "text/plain": [
       "(5, 8, 8, 9, 'smartbridge', 'externship', 'externship')"
      ]
     },
     "execution_count": 68,
     "metadata": {},
     "output_type": "execute_result"
    }
   ],
   "source": [
    "#Converting it back to tuple\n",
    "t=tuple(a)\n",
    "t"
   ]
  },
  {
   "cell_type": "code",
   "execution_count": 69,
   "id": "5a555b5f",
   "metadata": {},
   "outputs": [
    {
     "data": {
      "text/plain": [
       "(5, 8, 8, 9, 'smartbridge', 'externship', 'externship', 4, 7, 8)"
      ]
     },
     "execution_count": 69,
     "metadata": {},
     "output_type": "execute_result"
    }
   ],
   "source": [
    "#Joining two tuples\n",
    "y=(4,7,8)\n",
    "c=t+y\n",
    "c"
   ]
  },
  {
   "cell_type": "markdown",
   "id": "4e3a5386",
   "metadata": {},
   "source": [
    "### Dictionary\n",
    "\n",
    "1. Elements are identified using unique keys.\n",
    "2. Represented using { }.\n",
    "3. Elements can be a list,tuple,string,int,float etc.\n",
    "4. Dictionaries are mutable.\n",
    "5. Does not allow duplicate keys\n"
   ]
  },
  {
   "cell_type": "code",
   "execution_count": 71,
   "id": "62803629",
   "metadata": {},
   "outputs": [
    {
     "data": {
      "text/plain": [
       "{'captain': 'virat', 'keeper': 'dhoni', 'bowler': 'sachin'}"
      ]
     },
     "execution_count": 71,
     "metadata": {},
     "output_type": "execute_result"
    }
   ],
   "source": [
    "#Declaring a dictionary\n",
    "cricket={\"captain\":\"virat\",\"keeper\":\"dhoni\",\"bowler\":\"sachin\"}\n",
    "cricket"
   ]
  },
  {
   "cell_type": "code",
   "execution_count": 72,
   "id": "6a60d3b7",
   "metadata": {},
   "outputs": [
    {
     "data": {
      "text/plain": [
       "dict"
      ]
     },
     "execution_count": 72,
     "metadata": {},
     "output_type": "execute_result"
    }
   ],
   "source": [
    "#Checking type\n",
    "type(cricket)"
   ]
  },
  {
   "cell_type": "code",
   "execution_count": 73,
   "id": "346ea057",
   "metadata": {},
   "outputs": [
    {
     "data": {
      "text/plain": [
       "'sachin'"
      ]
     },
     "execution_count": 73,
     "metadata": {},
     "output_type": "execute_result"
    }
   ],
   "source": [
    "#Accessing elements using keys\n",
    "cricket[\"bowler\"]"
   ]
  },
  {
   "cell_type": "code",
   "execution_count": 77,
   "id": "710d8a88",
   "metadata": {},
   "outputs": [
    {
     "data": {
      "text/plain": [
       "{'alpha': ['a1', 'b1', 'c1'], 'numbers': [1, 2, 3]}"
      ]
     },
     "execution_count": 77,
     "metadata": {},
     "output_type": "execute_result"
    }
   ],
   "source": [
    "#Declaring list as elements\n",
    "z={\"alpha\":[\"a1\",\"b1\",\"c1\"],\"numbers\":[1,2,3]}\n",
    "z"
   ]
  },
  {
   "cell_type": "code",
   "execution_count": 78,
   "id": "628b6c6e",
   "metadata": {},
   "outputs": [
    {
     "data": {
      "text/plain": [
       "dict_items([('alpha', ['a1', 'b1', 'c1']), ('numbers', [1, 2, 3])])"
      ]
     },
     "execution_count": 78,
     "metadata": {},
     "output_type": "execute_result"
    }
   ],
   "source": [
    "#Accessing itsem\n",
    "z.items()"
   ]
  },
  {
   "cell_type": "code",
   "execution_count": 82,
   "id": "7520e3c0",
   "metadata": {},
   "outputs": [
    {
     "data": {
      "text/plain": [
       "{1: 2}"
      ]
     },
     "execution_count": 82,
     "metadata": {},
     "output_type": "execute_result"
    }
   ],
   "source": [
    "#Updating values\n",
    "r={1:2}\n",
    "r"
   ]
  },
  {
   "cell_type": "code",
   "execution_count": 84,
   "id": "ca749aca",
   "metadata": {},
   "outputs": [
    {
     "data": {
      "text/plain": [
       "{'alpha': ['a1', 'b1', 'c1'], 'numbers': [1, 2, 3], 1: 2}"
      ]
     },
     "execution_count": 84,
     "metadata": {},
     "output_type": "execute_result"
    }
   ],
   "source": [
    "z.update(r)\n",
    "z"
   ]
  },
  {
   "cell_type": "code",
   "execution_count": 85,
   "id": "a142fbc8",
   "metadata": {},
   "outputs": [
    {
     "data": {
      "text/plain": [
       "dict_values(['virat', 'dhoni', 'sachin'])"
      ]
     },
     "execution_count": 85,
     "metadata": {},
     "output_type": "execute_result"
    }
   ],
   "source": [
    "#Returning values only\n",
    "cricket.values()"
   ]
  },
  {
   "cell_type": "code",
   "execution_count": 87,
   "id": "71cea4c9",
   "metadata": {},
   "outputs": [
    {
     "data": {
      "text/plain": [
       "dict_items([('captain', 'virat'), ('keeper', 'dhoni'), ('bowler', 'sachin')])"
      ]
     },
     "execution_count": 87,
     "metadata": {},
     "output_type": "execute_result"
    }
   ],
   "source": [
    "#Returning values along with keys in the form of a tuple\n",
    "cricket.items()"
   ]
  },
  {
   "cell_type": "code",
   "execution_count": 89,
   "id": "80e3fef5",
   "metadata": {},
   "outputs": [
    {
     "data": {
      "text/plain": [
       "{'emp name': 'harish',\n",
       " 'salary': 1000,\n",
       " 'experience': 6,\n",
       " 'designation': 'ML engineer'}"
      ]
     },
     "execution_count": 89,
     "metadata": {},
     "output_type": "execute_result"
    }
   ],
   "source": [
    "d={\"emp name\":\"harish\",\n",
    "  \"salary\":1000,\n",
    "  \"experience\":6,\n",
    "  \"designation\":\"ML engineer\"}\n",
    "d"
   ]
  },
  {
   "cell_type": "code",
   "execution_count": 90,
   "id": "bb029112",
   "metadata": {},
   "outputs": [
    {
     "data": {
      "text/plain": [
       "{'emp name': 'harish', 'salary': 1000, 'experience': 6}"
      ]
     },
     "execution_count": 90,
     "metadata": {},
     "output_type": "execute_result"
    }
   ],
   "source": [
    "#Removing an element based on key\n",
    "d.pop(\"designation\")\n",
    "d"
   ]
  },
  {
   "cell_type": "code",
   "execution_count": 91,
   "id": "abacbf6d",
   "metadata": {},
   "outputs": [
    {
     "data": {
      "text/plain": [
       "{'emp name': 'harish', 'salary': 1000}"
      ]
     },
     "execution_count": 91,
     "metadata": {},
     "output_type": "execute_result"
    }
   ],
   "source": [
    "#Removing the last inserted item\n",
    "d.popitem()\n",
    "d"
   ]
  },
  {
   "cell_type": "code",
   "execution_count": 93,
   "id": "7765b906",
   "metadata": {},
   "outputs": [
    {
     "data": {
      "text/plain": [
       "[1, 22, 3.5, [3, 4, [{'name': [1, 2, {'name1': 'tulasi'}, {'age': 5}]}]]]"
      ]
     },
     "execution_count": 93,
     "metadata": {},
     "output_type": "execute_result"
    }
   ],
   "source": [
    "#Combination\n",
    "list=[1,22,3.5,[3,4,[{\"name\":[1,2,{\"name1\":\"tulasi\"},{\"age\":5}]}]]]\n",
    "list"
   ]
  },
  {
   "cell_type": "code",
   "execution_count": 94,
   "id": "e362c110",
   "metadata": {},
   "outputs": [
    {
     "data": {
      "text/plain": [
       "'tulasi'"
      ]
     },
     "execution_count": 94,
     "metadata": {},
     "output_type": "execute_result"
    }
   ],
   "source": [
    "#Grabbing \"tulasi\"\n",
    "list[3][2][0][\"name\"][2][\"name1\"]"
   ]
  },
  {
   "cell_type": "markdown",
   "id": "379b7034",
   "metadata": {},
   "source": [
    "### Sets\n",
    "\n",
    "1. Heterogenous datatype.\n",
    "2. No duplicates allowed.\n",
    "3. Unordered datatype.\n",
    "4. Immutable.\n",
    "5. Can store multiple datatypes.\n",
    "6. Represented using curly braces.\n",
    "7. Indexing and Slicing is not possiblw"
   ]
  },
  {
   "cell_type": "code",
   "execution_count": 96,
   "id": "242f6052",
   "metadata": {},
   "outputs": [
    {
     "data": {
      "text/plain": [
       "{1, 2, 3}"
      ]
     },
     "execution_count": 96,
     "metadata": {},
     "output_type": "execute_result"
    }
   ],
   "source": [
    "#Declaring a set\n",
    "s={1,2,3}\n",
    "s"
   ]
  },
  {
   "cell_type": "code",
   "execution_count": 98,
   "id": "c725fd5b",
   "metadata": {},
   "outputs": [
    {
     "data": {
      "text/plain": [
       "{1, 2, 3, 'vit'}"
      ]
     },
     "execution_count": 98,
     "metadata": {},
     "output_type": "execute_result"
    }
   ],
   "source": [
    "#Adding element to set\n",
    "s.add('vit')\n",
    "s"
   ]
  },
  {
   "cell_type": "code",
   "execution_count": 100,
   "id": "99aa5038",
   "metadata": {},
   "outputs": [
    {
     "data": {
      "text/plain": [
       "{1, 2}"
      ]
     },
     "execution_count": 100,
     "metadata": {},
     "output_type": "execute_result"
    }
   ],
   "source": [
    "my_set={1,2}\n",
    "my_set"
   ]
  },
  {
   "cell_type": "code",
   "execution_count": 101,
   "id": "c3472847",
   "metadata": {},
   "outputs": [
    {
     "data": {
      "text/plain": [
       "{1, 2, 3, 4, 5}"
      ]
     },
     "execution_count": 101,
     "metadata": {},
     "output_type": "execute_result"
    }
   ],
   "source": [
    "#Updating set values\n",
    "my_set.update([3,4,5])\n",
    "my_set"
   ]
  },
  {
   "cell_type": "code",
   "execution_count": 102,
   "id": "9316f57b",
   "metadata": {},
   "outputs": [
    {
     "data": {
      "text/plain": [
       "{1, 3, 4, 5}"
      ]
     },
     "execution_count": 102,
     "metadata": {},
     "output_type": "execute_result"
    }
   ],
   "source": [
    "#Removing specific element from set\n",
    "my_set.remove(2)\n",
    "my_set"
   ]
  },
  {
   "cell_type": "code",
   "execution_count": 103,
   "id": "6e62d019",
   "metadata": {},
   "outputs": [
    {
     "data": {
      "text/plain": [
       "{1, 2, 3, 4, 5, 6}"
      ]
     },
     "execution_count": 103,
     "metadata": {},
     "output_type": "execute_result"
    }
   ],
   "source": [
    "#Union of sets\n",
    "set2={1,2,3,4}\n",
    "set3={2,4,5,6}\n",
    "set4=set2.union(set3)\n",
    "set4"
   ]
  },
  {
   "cell_type": "markdown",
   "id": "7b8d6899",
   "metadata": {},
   "source": [
    "### Exception handling \n",
    "\n",
    "When exception occurs, the next line of the program is not executed. Thus we use exception handling to continue the flow of program after catching exception."
   ]
  },
  {
   "cell_type": "code",
   "execution_count": 105,
   "id": "a039e606",
   "metadata": {},
   "outputs": [
    {
     "name": "stdout",
     "output_type": "stream",
     "text": [
      "Divide by zero error\n",
      "normal flow of program\n"
     ]
    }
   ],
   "source": [
    "#Zero division error exception\n",
    "try:\n",
    "    print(10/0)\n",
    "except ZeroDivisionError:\n",
    "    print(\"Divide by zero error\")\n",
    "print (\"normal flow of program\")"
   ]
  },
  {
   "cell_type": "code",
   "execution_count": 106,
   "id": "11e82c6a",
   "metadata": {},
   "outputs": [
    {
     "name": "stdout",
     "output_type": "stream",
     "text": [
      "can only concatenate str (not \"int\") to str\n"
     ]
    }
   ],
   "source": [
    "#printing exception as error\n",
    "try:\n",
    "    '2'+2\n",
    "except Exception as e:\n",
    "    print(e)"
   ]
  },
  {
   "cell_type": "code",
   "execution_count": null,
   "id": "9a115673",
   "metadata": {},
   "outputs": [],
   "source": []
  }
 ],
 "metadata": {
  "kernelspec": {
   "display_name": "Python 3 (ipykernel)",
   "language": "python",
   "name": "python3"
  },
  "language_info": {
   "codemirror_mode": {
    "name": "ipython",
    "version": 3
   },
   "file_extension": ".py",
   "mimetype": "text/x-python",
   "name": "python",
   "nbconvert_exporter": "python",
   "pygments_lexer": "ipython3",
   "version": "3.9.13"
  }
 },
 "nbformat": 4,
 "nbformat_minor": 5
}
