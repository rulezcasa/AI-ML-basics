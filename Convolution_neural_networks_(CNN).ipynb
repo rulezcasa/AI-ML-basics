{
  "nbformat": 4,
  "nbformat_minor": 0,
  "metadata": {
    "colab": {
      "provenance": []
    },
    "kernelspec": {
      "name": "python3",
      "display_name": "Python 3"
    },
    "language_info": {
      "name": "python"
    }
  },
  "cells": [
    {
      "cell_type": "markdown",
      "source": [
        "### Importing model building libraries"
      ],
      "metadata": {
        "id": "hHKrA3tFOYyk"
      }
    },
    {
      "cell_type": "code",
      "source": [
        "#ANN\n",
        "from tensorflow.keras.models import Sequential\n",
        "from tensorflow.keras.layers import Dense\n",
        "\n",
        "#CNN\n",
        "from tensorflow.keras.layers import Convolution2D\n",
        "from tensorflow.keras.layers import MaxPooling2D\n",
        "from tensorflow.keras.layers import Flatten"
      ],
      "metadata": {
        "id": "nauOL0wCONUv"
      },
      "execution_count": null,
      "outputs": []
    },
    {
      "cell_type": "markdown",
      "source": [
        "### Image preprocessing"
      ],
      "metadata": {
        "id": "YGiH3rQaO6Rv"
      }
    },
    {
      "cell_type": "code",
      "source": [
        "from keras.preprocessing.image import ImageDataGenerator"
      ],
      "metadata": {
        "id": "F84wh9TjOcn7"
      },
      "execution_count": null,
      "outputs": []
    },
    {
      "cell_type": "code",
      "source": [
        "#configure image data generator\n",
        "train_datagen=ImageDataGenerator(rescale=1./255,shear_range=0.2,zoom_range=0.2,horizontal_flip=True)\n",
        "test_datagen=ImageDataGenerator(rescale=1./255)"
      ],
      "metadata": {
        "id": "vTeY0fIrO8FU"
      },
      "execution_count": null,
      "outputs": []
    },
    {
      "cell_type": "code",
      "source": [
        "#Applying image data generator functionality to train and test images\n",
        "x_train=train_datagen.flow_from_directory(r\"/content/dataset/Training\",target_size=(64,64),batch_size=32,class_mode=\"categorical\")\n",
        "x_test=test_datagen.flow_from_directory(r\"/content/dataset/Testing\",target_size=(64,64),batch_size=32,class_mode=\"categorical\")"
      ],
      "metadata": {
        "colab": {
          "base_uri": "https://localhost:8080/"
        },
        "id": "XurbboO1P-OF",
        "outputId": "926369de-3c86-4170-8767-8881ca190dd9"
      },
      "execution_count": null,
      "outputs": [
        {
          "output_type": "stream",
          "name": "stdout",
          "text": [
            "Found 1238 images belonging to 4 classes.\n",
            "Found 326 images belonging to 4 classes.\n"
          ]
        }
      ]
    },
    {
      "cell_type": "code",
      "source": [
        "print(x_train.class_indices)"
      ],
      "metadata": {
        "colab": {
          "base_uri": "https://localhost:8080/"
        },
        "id": "t4-8CyEjQ5L-",
        "outputId": "829b089f-aac8-4022-fa0f-27f4b1612c4a"
      },
      "execution_count": null,
      "outputs": [
        {
          "output_type": "stream",
          "name": "stdout",
          "text": [
            "{'bears': 0, 'crows': 1, 'elephants': 2, 'rats': 3}\n"
          ]
        }
      ]
    },
    {
      "cell_type": "markdown",
      "source": [
        "### Model building"
      ],
      "metadata": {
        "id": "hJoNZZUARUYG"
      }
    },
    {
      "cell_type": "code",
      "source": [
        "#Intializing the model\n",
        "model=Sequential()"
      ],
      "metadata": {
        "id": "lgeW34VSRNkF"
      },
      "execution_count": null,
      "outputs": []
    },
    {
      "cell_type": "code",
      "source": [
        "#Adding convolution layer (No. of filters, size of filter, input shape, activation=relu)\n",
        "model.add(Convolution2D(32,(3,3),input_shape=(64,64,3),activation=\"relu\"))"
      ],
      "metadata": {
        "id": "nkK8ksBnvBN-"
      },
      "execution_count": null,
      "outputs": []
    },
    {
      "cell_type": "code",
      "source": [
        "#Adding max pooling layer(pool_size)\n",
        "model.add(MaxPooling2D(pool_size=(2,2)))"
      ],
      "metadata": {
        "id": "0keseRV7v7I2"
      },
      "execution_count": null,
      "outputs": []
    },
    {
      "cell_type": "code",
      "source": [
        "#Adding flatten layer\n",
        "model.add(Flatten())"
      ],
      "metadata": {
        "id": "bVEIW5yPwgR9"
      },
      "execution_count": null,
      "outputs": []
    },
    {
      "cell_type": "markdown",
      "source": [
        "The flatten layer provides output as input for ANN¯¸"
      ],
      "metadata": {
        "id": "3srxVTAIwuTZ"
      }
    },
    {
      "cell_type": "code",
      "source": [
        "#ANN hidden layer\n",
        "model.add(Dense(units=128,activation=\"relu\"))"
      ],
      "metadata": {
        "id": "qe1ej899w0Nb"
      },
      "execution_count": null,
      "outputs": []
    },
    {
      "cell_type": "code",
      "source": [
        "#Adding output layer\n",
        "model.add(Dense(units=4,activation=\"softmax\"))"
      ],
      "metadata": {
        "id": "cxsw1I91wm7U"
      },
      "execution_count": null,
      "outputs": []
    },
    {
      "cell_type": "code",
      "source": [
        "#Compiling the model(loss function,optimizer, accuracy)\n",
        "model.compile(loss=\"categorical_crossentropy\",optimizer=\"adam\",metrics=\"accuracy\")"
      ],
      "metadata": {
        "id": "9mbUHoxhwzU5"
      },
      "execution_count": null,
      "outputs": []
    },
    {
      "cell_type": "code",
      "source": [
        "#Fitting model\n",
        "model.fit(x_train,steps_per_epoch=39,epochs=5,validation_data=x_test,validation_steps=10)"
      ],
      "metadata": {
        "colab": {
          "base_uri": "https://localhost:8080/"
        },
        "id": "h-iLQMaCxtps",
        "outputId": "1c8ba7d9-9873-4807-bdd4-7d9805297f03"
      },
      "execution_count": null,
      "outputs": [
        {
          "output_type": "stream",
          "name": "stdout",
          "text": [
            "Epoch 1/5\n",
            "39/39 [==============================] - 12s 295ms/step - loss: 1.9095 - accuracy: 0.3086 - val_loss: 1.2839 - val_accuracy: 0.3344\n",
            "Epoch 2/5\n",
            "39/39 [==============================] - 11s 276ms/step - loss: 1.0885 - accuracy: 0.5646 - val_loss: 1.0544 - val_accuracy: 0.6062\n",
            "Epoch 3/5\n",
            "39/39 [==============================] - 9s 238ms/step - loss: 0.9207 - accuracy: 0.6365 - val_loss: 0.8136 - val_accuracy: 0.6875\n",
            "Epoch 4/5\n",
            "39/39 [==============================] - 10s 236ms/step - loss: 0.7909 - accuracy: 0.6882 - val_loss: 0.8356 - val_accuracy: 0.6906\n",
            "Epoch 5/5\n",
            "39/39 [==============================] - 13s 346ms/step - loss: 0.7186 - accuracy: 0.7270 - val_loss: 0.6090 - val_accuracy: 0.7812\n"
          ]
        },
        {
          "output_type": "execute_result",
          "data": {
            "text/plain": [
              "<keras.src.callbacks.History at 0x7be1002db4c0>"
            ]
          },
          "metadata": {},
          "execution_count": 14
        }
      ]
    },
    {
      "cell_type": "markdown",
      "source": [
        "Steps per epoch = No. of samples in your training/batch size\n",
        "\n"
      ],
      "metadata": {
        "id": "8C3dxyfOyRjA"
      }
    },
    {
      "cell_type": "code",
      "source": [
        "model.summary()"
      ],
      "metadata": {
        "colab": {
          "base_uri": "https://localhost:8080/"
        },
        "id": "LVRV5HRpx_jl",
        "outputId": "93e2e790-4ab5-42d5-b41c-ea124ddb732b"
      },
      "execution_count": null,
      "outputs": [
        {
          "output_type": "stream",
          "name": "stdout",
          "text": [
            "Model: \"sequential\"\n",
            "_________________________________________________________________\n",
            " Layer (type)                Output Shape              Param #   \n",
            "=================================================================\n",
            " conv2d (Conv2D)             (None, 62, 62, 32)        896       \n",
            "                                                                 \n",
            " max_pooling2d (MaxPooling2  (None, 31, 31, 32)        0         \n",
            " D)                                                              \n",
            "                                                                 \n",
            " flatten (Flatten)           (None, 30752)             0         \n",
            "                                                                 \n",
            " dense (Dense)               (None, 128)               3936384   \n",
            "                                                                 \n",
            " dense_1 (Dense)             (None, 4)                 516       \n",
            "                                                                 \n",
            "=================================================================\n",
            "Total params: 3937796 (15.02 MB)\n",
            "Trainable params: 3937796 (15.02 MB)\n",
            "Non-trainable params: 0 (0.00 Byte)\n",
            "_________________________________________________________________\n"
          ]
        }
      ]
    },
    {
      "cell_type": "markdown",
      "source": [
        "For Convolution layer:\n",
        "\n",
        "1. No. of filters *(input_channels*window_size+1)=Number of paramaters"
      ],
      "metadata": {
        "id": "guWQSiYz1Xik"
      }
    },
    {
      "cell_type": "markdown",
      "source": [
        "For Dense layers:\n",
        "\n",
        "1. Output_size*(input_size+1)==number_parameters"
      ],
      "metadata": {
        "id": "BC6DsMxz1l3i"
      }
    },
    {
      "cell_type": "markdown",
      "source": [
        "### Saving model"
      ],
      "metadata": {
        "id": "t8lxUI1F3mSN"
      }
    },
    {
      "cell_type": "code",
      "source": [
        "model.save(\"animal.h5\")"
      ],
      "metadata": {
        "colab": {
          "base_uri": "https://localhost:8080/"
        },
        "id": "48G2Tr2L0dDT",
        "outputId": "5cb1bb21-c8f9-48e9-ed96-5d4ac289e563"
      },
      "execution_count": null,
      "outputs": [
        {
          "output_type": "stream",
          "name": "stderr",
          "text": [
            "/usr/local/lib/python3.10/dist-packages/keras/src/engine/training.py:3000: UserWarning: You are saving your model as an HDF5 file via `model.save()`. This file format is considered legacy. We recommend using instead the native Keras format, e.g. `model.save('my_model.keras')`.\n",
            "  saving_api.save_model(\n"
          ]
        }
      ]
    },
    {
      "cell_type": "markdown",
      "source": [
        "### Testing model"
      ],
      "metadata": {
        "id": "S9Ztmzev39eL"
      }
    },
    {
      "cell_type": "code",
      "source": [
        "from tensorflow.keras.models import load_model\n",
        "from tensorflow.keras.preprocessing import image\n",
        "import numpy as np"
      ],
      "metadata": {
        "id": "pzf_ss661aJ3"
      },
      "execution_count": null,
      "outputs": []
    },
    {
      "cell_type": "code",
      "source": [
        "#Loading model\n",
        "import tensorflow as tf\n",
        "model=tf.keras.models.load_model(r\"/content/animal.h5\",compile=False)"
      ],
      "metadata": {
        "id": "EZwlXcl83_s3"
      },
      "execution_count": null,
      "outputs": []
    },
    {
      "cell_type": "code",
      "source": [
        "#Loading an image\n",
        "img=image.load_img(r\"/content/elephant.jpeg\",target_size=(64,64))\n",
        "img"
      ],
      "metadata": {
        "colab": {
          "base_uri": "https://localhost:8080/",
          "height": 81
        },
        "id": "ibcf7zJ45VQI",
        "outputId": "dce0ab5e-7d8b-4d5d-bc08-262cc1301215"
      },
      "execution_count": null,
      "outputs": [
        {
          "output_type": "execute_result",
          "data": {
            "text/plain": [
              "<PIL.Image.Image image mode=RGB size=64x64>"
            ],
            "image/png": "[encoded data removed]"
          },
          "metadata": {},
          "execution_count": 20
        }
      ]
    },
    {
      "cell_type": "code",
      "source": [
        "#3D array of pixels\n",
        "x=image.img_to_array(img)\n",
        "x"
      ],
      "metadata": {
        "colab": {
          "base_uri": "https://localhost:8080/"
        },
        "id": "Q83XiQX37HNm",
        "outputId": "ef4c40f3-2ffb-48f0-b242-5022f72a9856"
      },
      "execution_count": null,
      "outputs": [
        {
          "output_type": "execute_result",
          "data": {
            "text/plain": [
              "array([[[219., 222., 227.],\n",
              "        [219., 222., 227.],\n",
              "        [219., 222., 227.],\n",
              "        ...,\n",
              "        [214., 217., 224.],\n",
              "        [214., 217., 224.],\n",
              "        [214., 217., 224.]],\n",
              "\n",
              "       [[221., 224., 229.],\n",
              "        [221., 224., 229.],\n",
              "        [221., 224., 229.],\n",
              "        ...,\n",
              "        [216., 219., 226.],\n",
              "        [216., 219., 226.],\n",
              "        [216., 219., 226.]],\n",
              "\n",
              "       [[222., 225., 230.],\n",
              "        [222., 225., 230.],\n",
              "        [222., 225., 230.],\n",
              "        ...,\n",
              "        [219., 222., 229.],\n",
              "        [219., 222., 229.],\n",
              "        [219., 222., 229.]],\n",
              "\n",
              "       ...,\n",
              "\n",
              "       [[174., 155., 141.],\n",
              "        [172., 152., 141.],\n",
              "        [172., 152., 145.],\n",
              "        ...,\n",
              "        [134., 125., 120.],\n",
              "        [131., 122., 117.],\n",
              "        [136., 127., 122.]],\n",
              "\n",
              "       [[176., 157., 143.],\n",
              "        [174., 154., 143.],\n",
              "        [168., 148., 141.],\n",
              "        ...,\n",
              "        [131., 122., 117.],\n",
              "        [128., 119., 114.],\n",
              "        [137., 128., 123.]],\n",
              "\n",
              "       [[174., 155., 141.],\n",
              "        [171., 151., 140.],\n",
              "        [170., 150., 143.],\n",
              "        ...,\n",
              "        [125., 116., 111.],\n",
              "        [120., 111., 106.],\n",
              "        [127., 118., 113.]]], dtype=float32)"
            ]
          },
          "metadata": {},
          "execution_count": 21
        }
      ]
    },
    {
      "cell_type": "markdown",
      "source": [
        "Since convolution layer is 4D, input data should be converted to 4D array while passimg for prediction"
      ],
      "metadata": {
        "id": "VZaumuvk8d7K"
      }
    },
    {
      "cell_type": "code",
      "source": [
        "x=np.expand_dims(x,axis=0)\n",
        "x.shape"
      ],
      "metadata": {
        "colab": {
          "base_uri": "https://localhost:8080/"
        },
        "id": "Gq3xNRDB73Zw",
        "outputId": "a26a6a60-e76c-42b0-b27a-0050b6681349"
      },
      "execution_count": null,
      "outputs": [
        {
          "output_type": "execute_result",
          "data": {
            "text/plain": [
              "(1, 64, 64, 3)"
            ]
          },
          "metadata": {},
          "execution_count": 22
        }
      ]
    },
    {
      "cell_type": "code",
      "source": [
        "pred=model.predict(x)\n",
        "pred"
      ],
      "metadata": {
        "colab": {
          "base_uri": "https://localhost:8080/"
        },
        "id": "8sqMWhKd78hn",
        "outputId": "428ebdf7-8faf-4e5f-eb3c-20ddd6ad6f0a"
      },
      "execution_count": null,
      "outputs": [
        {
          "output_type": "stream",
          "name": "stdout",
          "text": [
            "1/1 [==============================] - 0s 151ms/step\n"
          ]
        },
        {
          "output_type": "execute_result",
          "data": {
            "text/plain": [
              "array([[0., 0., 1., 0.]], dtype=float32)"
            ]
          },
          "metadata": {},
          "execution_count": 23
        }
      ]
    },
    {
      "cell_type": "code",
      "source": [
        "pred_class=np.argmax(pred,axis=1)\n",
        "pred_class[0]"
      ],
      "metadata": {
        "colab": {
          "base_uri": "https://localhost:8080/"
        },
        "id": "GsdfOxBV8-xu",
        "outputId": "f6bf580b-f9f1-430d-8c56-2385351aac77"
      },
      "execution_count": null,
      "outputs": [
        {
          "output_type": "execute_result",
          "data": {
            "text/plain": [
              "2"
            ]
          },
          "metadata": {},
          "execution_count": 24
        }
      ]
    },
    {
      "cell_type": "code",
      "source": [
        "index=[\"bear\",\"crow\",\"elephant\",\"rat\"]"
      ],
      "metadata": {
        "id": "0wg8G7Io-OPg"
      },
      "execution_count": null,
      "outputs": []
    },
    {
      "cell_type": "code",
      "source": [
        "result=str(index[pred_class[0]])\n",
        "result"
      ],
      "metadata": {
        "colab": {
          "base_uri": "https://localhost:8080/",
          "height": 35
        },
        "id": "FWRj5GMV_EBS",
        "outputId": "7b6ac727-383a-4997-c188-b0674e15e638"
      },
      "execution_count": null,
      "outputs": [
        {
          "output_type": "execute_result",
          "data": {
            "text/plain": [
              "'elephant'"
            ],
            "application/vnd.google.colaboratory.intrinsic+json": {
              "type": "string"
            }
          },
          "metadata": {},
          "execution_count": 26
        }
      ]
    },
    {
      "cell_type": "code",
      "source": [],
      "metadata": {
        "id": "G3boAMjo_XE-"
      },
      "execution_count": null,
      "outputs": []
    }
  ]
}